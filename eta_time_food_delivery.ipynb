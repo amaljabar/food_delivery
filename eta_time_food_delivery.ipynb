{
  "nbformat": 4,
  "nbformat_minor": 0,
  "metadata": {
    "colab": {
      "name": "Untitled0.ipynb",
      "provenance": [],
      "toc_visible": true,
      "authorship_tag": "ABX9TyMT+E34vxYuXfC5be5LyofE",
      "include_colab_link": true
    },
    "kernelspec": {
      "name": "python3",
      "display_name": "Python 3"
    },
    "language_info": {
      "name": "python"
    }
  },
  "cells": [
    {
      "cell_type": "markdown",
      "metadata": {
        "id": "view-in-github",
        "colab_type": "text"
      },
      "source": [
        "<a href=\"https://colab.research.google.com/github/amaljabar/food_delivery/blob/main/eta_time_food_delivery.ipynb\" target=\"_parent\"><img src=\"https://colab.research.google.com/assets/colab-badge.svg\" alt=\"Open In Colab\"/></a>"
      ]
    },
    {
      "cell_type": "code",
      "metadata": {
        "id": "FUjxyShKb8YC"
      },
      "source": [
        "import pandas as pd"
      ],
      "execution_count": null,
      "outputs": []
    },
    {
      "cell_type": "code",
      "metadata": {
        "id": "aATYn8oncTYb"
      },
      "source": [
        "df_fooddeliv=pd.read_csv('food_delivery_datasets.csv')\n",
        "df_fooddeliv=df_fooddeliv[df_fooddeliv.status=='Completed']"
      ],
      "execution_count": null,
      "outputs": []
    },
    {
      "cell_type": "code",
      "metadata": {
        "colab": {
          "base_uri": "https://localhost:8080/"
        },
        "id": "z6-hYjlWceNo",
        "outputId": "5119c54c-78f8-46c9-d472-6548c9d6adda"
      },
      "source": [
        "df_fooddeliv.info()"
      ],
      "execution_count": null,
      "outputs": [
        {
          "output_type": "stream",
          "name": "stdout",
          "text": [
            "<class 'pandas.core.frame.DataFrame'>\n",
            "RangeIndex: 1076 entries, 0 to 1075\n",
            "Data columns (total 11 columns):\n",
            " #   Column          Non-Null Count  Dtype  \n",
            "---  ------          --------------  -----  \n",
            " 0   order_id        1076 non-null   object \n",
            " 1   voucher_amount  1076 non-null   int64  \n",
            " 2   date_time       1076 non-null   object \n",
            " 3   eta_seconds     1076 non-null   int64  \n",
            " 4   food_price      1076 non-null   int64  \n",
            " 5   cust_id         1076 non-null   int64  \n",
            " 6   rating          598 non-null    float64\n",
            " 7   delivery_fee    1076 non-null   int64  \n",
            " 8   resto_id        1076 non-null   int64  \n",
            " 9   status          1076 non-null   object \n",
            " 10  random_id       1076 non-null   float64\n",
            "dtypes: float64(2), int64(6), object(3)\n",
            "memory usage: 92.6+ KB\n"
          ]
        }
      ]
    },
    {
      "cell_type": "code",
      "metadata": {
        "colab": {
          "base_uri": "https://localhost:8080/",
          "height": 424
        },
        "id": "lNtNwCxnckqL",
        "outputId": "64a08a58-56a2-46ca-c8a7-fbf4e049d4a4"
      },
      "source": [
        "df_dateeta=df_fooddeliv[['date_time','eta_seconds','resto_id']]\n",
        "df_dateeta"
      ],
      "execution_count": null,
      "outputs": [
        {
          "output_type": "execute_result",
          "data": {
            "text/html": [
              "<div>\n",
              "<style scoped>\n",
              "    .dataframe tbody tr th:only-of-type {\n",
              "        vertical-align: middle;\n",
              "    }\n",
              "\n",
              "    .dataframe tbody tr th {\n",
              "        vertical-align: top;\n",
              "    }\n",
              "\n",
              "    .dataframe thead th {\n",
              "        text-align: right;\n",
              "    }\n",
              "</style>\n",
              "<table border=\"1\" class=\"dataframe\">\n",
              "  <thead>\n",
              "    <tr style=\"text-align: right;\">\n",
              "      <th></th>\n",
              "      <th>date_time</th>\n",
              "      <th>eta_seconds</th>\n",
              "      <th>resto_id</th>\n",
              "    </tr>\n",
              "  </thead>\n",
              "  <tbody>\n",
              "    <tr>\n",
              "      <th>0</th>\n",
              "      <td>2018-08-12T20:35:08.001006</td>\n",
              "      <td>1800</td>\n",
              "      <td>742638033</td>\n",
              "    </tr>\n",
              "    <tr>\n",
              "      <th>1</th>\n",
              "      <td>2018-09-23T17:44:12.243273</td>\n",
              "      <td>2173</td>\n",
              "      <td>742767245</td>\n",
              "    </tr>\n",
              "    <tr>\n",
              "      <th>2</th>\n",
              "      <td>2018-09-19T18:08:09.387991</td>\n",
              "      <td>1418</td>\n",
              "      <td>742618303</td>\n",
              "    </tr>\n",
              "    <tr>\n",
              "      <th>3</th>\n",
              "      <td>2018-09-21T01:24:35.272499</td>\n",
              "      <td>1903</td>\n",
              "      <td>742541172</td>\n",
              "    </tr>\n",
              "    <tr>\n",
              "      <th>4</th>\n",
              "      <td>2018-09-22T17:57:45.523161</td>\n",
              "      <td>1716</td>\n",
              "      <td>742604875</td>\n",
              "    </tr>\n",
              "    <tr>\n",
              "      <th>...</th>\n",
              "      <td>...</td>\n",
              "      <td>...</td>\n",
              "      <td>...</td>\n",
              "    </tr>\n",
              "    <tr>\n",
              "      <th>1071</th>\n",
              "      <td>2018-09-20T15:01:52.152828</td>\n",
              "      <td>900</td>\n",
              "      <td>742742150</td>\n",
              "    </tr>\n",
              "    <tr>\n",
              "      <th>1072</th>\n",
              "      <td>2018-07-26T14:43:23.655294</td>\n",
              "      <td>1579</td>\n",
              "      <td>742566851</td>\n",
              "    </tr>\n",
              "    <tr>\n",
              "      <th>1073</th>\n",
              "      <td>2018-08-21T20:10:59.283185</td>\n",
              "      <td>2606</td>\n",
              "      <td>742571888</td>\n",
              "    </tr>\n",
              "    <tr>\n",
              "      <th>1074</th>\n",
              "      <td>2018-07-16T14:42:23.214427</td>\n",
              "      <td>2428</td>\n",
              "      <td>742725064</td>\n",
              "    </tr>\n",
              "    <tr>\n",
              "      <th>1075</th>\n",
              "      <td>2018-09-11T14:18:19.494258</td>\n",
              "      <td>1547</td>\n",
              "      <td>742594499</td>\n",
              "    </tr>\n",
              "  </tbody>\n",
              "</table>\n",
              "<p>881 rows × 3 columns</p>\n",
              "</div>"
            ],
            "text/plain": [
              "                       date_time  eta_seconds   resto_id\n",
              "0     2018-08-12T20:35:08.001006         1800  742638033\n",
              "1     2018-09-23T17:44:12.243273         2173  742767245\n",
              "2     2018-09-19T18:08:09.387991         1418  742618303\n",
              "3     2018-09-21T01:24:35.272499         1903  742541172\n",
              "4     2018-09-22T17:57:45.523161         1716  742604875\n",
              "...                          ...          ...        ...\n",
              "1071  2018-09-20T15:01:52.152828          900  742742150\n",
              "1072  2018-07-26T14:43:23.655294         1579  742566851\n",
              "1073  2018-08-21T20:10:59.283185         2606  742571888\n",
              "1074  2018-07-16T14:42:23.214427         2428  742725064\n",
              "1075  2018-09-11T14:18:19.494258         1547  742594499\n",
              "\n",
              "[881 rows x 3 columns]"
            ]
          },
          "metadata": {},
          "execution_count": 41
        }
      ]
    },
    {
      "cell_type": "code",
      "metadata": {
        "colab": {
          "base_uri": "https://localhost:8080/"
        },
        "id": "OJXLow2CeDN-",
        "outputId": "f5048401-4b04-42d1-b9fe-6ea9adefcfd4"
      },
      "source": [
        "listdatetime[1][0].split('T')"
      ],
      "execution_count": null,
      "outputs": [
        {
          "output_type": "execute_result",
          "data": {
            "text/plain": [
              "['2018-09-23', '17:44:12.243273']"
            ]
          },
          "metadata": {},
          "execution_count": 43
        }
      ]
    },
    {
      "cell_type": "code",
      "metadata": {
        "id": "7Gg4JCefehyd"
      },
      "source": [
        ""
      ],
      "execution_count": null,
      "outputs": []
    },
    {
      "cell_type": "code",
      "metadata": {
        "colab": {
          "base_uri": "https://localhost:8080/"
        },
        "id": "IxgKVFmxfcdH",
        "outputId": "e6798939-284c-4992-8ddb-66ff6c596fa3"
      },
      "source": [
        "df_dateeta[['date','time']]=df_dateeta.date_time.str.split('T',expand=True)"
      ],
      "execution_count": null,
      "outputs": [
        {
          "output_type": "stream",
          "name": "stderr",
          "text": [
            "/usr/local/lib/python3.7/dist-packages/pandas/core/frame.py:3069: SettingWithCopyWarning: \n",
            "A value is trying to be set on a copy of a slice from a DataFrame.\n",
            "Try using .loc[row_indexer,col_indexer] = value instead\n",
            "\n",
            "See the caveats in the documentation: https://pandas.pydata.org/pandas-docs/stable/user_guide/indexing.html#returning-a-view-versus-a-copy\n",
            "  self[k1] = value[k2]\n"
          ]
        }
      ]
    },
    {
      "cell_type": "code",
      "metadata": {
        "colab": {
          "base_uri": "https://localhost:8080/"
        },
        "id": "XwZ0eccBfsLq",
        "outputId": "df826d3f-51f7-4db9-f518-aa4c9bb303e8"
      },
      "source": [
        "df_dateeta[['hour']]=df_dateeta.time.str[:2].astype(int)"
      ],
      "execution_count": null,
      "outputs": [
        {
          "output_type": "stream",
          "name": "stderr",
          "text": [
            "/usr/local/lib/python3.7/dist-packages/ipykernel_launcher.py:1: SettingWithCopyWarning: \n",
            "A value is trying to be set on a copy of a slice from a DataFrame.\n",
            "Try using .loc[row_indexer,col_indexer] = value instead\n",
            "\n",
            "See the caveats in the documentation: https://pandas.pydata.org/pandas-docs/stable/user_guide/indexing.html#returning-a-view-versus-a-copy\n",
            "  \"\"\"Entry point for launching an IPython kernel.\n",
            "/usr/local/lib/python3.7/dist-packages/pandas/core/indexing.py:1743: SettingWithCopyWarning: \n",
            "A value is trying to be set on a copy of a slice from a DataFrame.\n",
            "Try using .loc[row_indexer,col_indexer] = value instead\n",
            "\n",
            "See the caveats in the documentation: https://pandas.pydata.org/pandas-docs/stable/user_guide/indexing.html#returning-a-view-versus-a-copy\n",
            "  isetter(ilocs[0], value)\n"
          ]
        }
      ]
    },
    {
      "cell_type": "code",
      "metadata": {
        "colab": {
          "base_uri": "https://localhost:8080/"
        },
        "id": "nlrxl149sLp8",
        "outputId": "6b7cb4ec-1c97-4d3e-85cd-0ddb1fead0c2"
      },
      "source": [
        "df_dateeta[(df_dateeta.hour<5) ].eta_seconds.mean()"
      ],
      "execution_count": 72,
      "outputs": [
        {
          "output_type": "execute_result",
          "data": {
            "text/plain": [
              "1554.4761904761904"
            ]
          },
          "metadata": {},
          "execution_count": 72
        }
      ]
    },
    {
      "cell_type": "code",
      "metadata": {
        "id": "MPFwZqKQpVv9",
        "colab": {
          "base_uri": "https://localhost:8080/"
        },
        "outputId": "50952b28-4f78-4c62-9ffa-7a93077245cc"
      },
      "source": [
        "df_dateeta[(df_dateeta.hour>=5) & (df_dateeta.hour<=9)].eta_seconds.mean()"
      ],
      "execution_count": 80,
      "outputs": [
        {
          "output_type": "execute_result",
          "data": {
            "text/plain": [
              "1864.1851851851852"
            ]
          },
          "metadata": {},
          "execution_count": 80
        }
      ]
    },
    {
      "cell_type": "code",
      "metadata": {
        "colab": {
          "base_uri": "https://localhost:8080/"
        },
        "id": "oF62snTsxNdV",
        "outputId": "97eb2625-32be-4545-be4a-48ea19b1abc5"
      },
      "source": [
        "df_dateeta[(df_dateeta.hour>=9) & (df_dateeta.hour<=11)].eta_seconds.mean()"
      ],
      "execution_count": 83,
      "outputs": [
        {
          "output_type": "execute_result",
          "data": {
            "text/plain": [
              "2074.5789473684213"
            ]
          },
          "metadata": {},
          "execution_count": 83
        }
      ]
    },
    {
      "cell_type": "code",
      "metadata": {
        "colab": {
          "base_uri": "https://localhost:8080/"
        },
        "id": "IPakaNZxxCWQ",
        "outputId": "e4c8aa86-24c8-4b28-ef99-0b55bbd48ce0"
      },
      "source": [
        "df_dateeta[(df_dateeta.hour>=11) & (df_dateeta.hour<=16)].eta_seconds.mean()"
      ],
      "execution_count": 85,
      "outputs": [
        {
          "output_type": "execute_result",
          "data": {
            "text/plain": [
              "1944.6586538461538"
            ]
          },
          "metadata": {},
          "execution_count": 85
        }
      ]
    },
    {
      "cell_type": "code",
      "metadata": {
        "colab": {
          "base_uri": "https://localhost:8080/"
        },
        "id": "idDnr6lqxFuf",
        "outputId": "bf2c9283-0eab-4d10-9cff-3accacd053fa"
      },
      "source": [
        "df_dateeta[(df_dateeta.hour>=16) & (df_dateeta.hour<=19)].eta_seconds.mean()"
      ],
      "execution_count": 86,
      "outputs": [
        {
          "output_type": "execute_result",
          "data": {
            "text/plain": [
              "1918.4043887147336"
            ]
          },
          "metadata": {},
          "execution_count": 86
        }
      ]
    },
    {
      "cell_type": "code",
      "metadata": {
        "colab": {
          "base_uri": "https://localhost:8080/"
        },
        "id": "7wEC4kNRxt6N",
        "outputId": "b5ce9c02-aeb4-49fa-b691-e6915a3b45d8"
      },
      "source": [
        "df_dateeta[df_dateeta.hour>19 ].eta_seconds.mean()"
      ],
      "execution_count": 87,
      "outputs": [
        {
          "output_type": "execute_result",
          "data": {
            "text/plain": [
              "1802.4468085106382"
            ]
          },
          "metadata": {},
          "execution_count": 87
        }
      ]
    },
    {
      "cell_type": "code",
      "metadata": {
        "id": "FIwMI9iex6lO"
      },
      "source": [
        ""
      ],
      "execution_count": null,
      "outputs": []
    }
  ]
}